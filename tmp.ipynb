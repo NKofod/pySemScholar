{
 "cells": [
  {
   "cell_type": "code",
   "execution_count": 1,
   "metadata": {},
   "outputs": [],
   "source": [
    "import pySemScholar"
   ]
  },
  {
   "cell_type": "code",
   "execution_count": 2,
   "metadata": {},
   "outputs": [],
   "source": [
    "with open(\"api_key.txt\",\"r\") as infile:\n",
    "    api_key = infile.read().strip()"
   ]
  },
  {
   "cell_type": "code",
   "execution_count": 9,
   "metadata": {},
   "outputs": [
    {
     "name": "stdout",
     "output_type": "stream",
     "text": [
      "100\n",
      "200\n",
      "300\n",
      "400\n",
      "500\n",
      "600\n",
      "700\n",
      "800\n",
      "900\n",
      "1000\n",
      "1100\n",
      "1200\n",
      "1300\n",
      "1400\n",
      "1500\n",
      "1600\n",
      "1700\n",
      "1800\n",
      "1900\n",
      "2000\n",
      "2100\n",
      "2200\n",
      "2300\n",
      "2400\n",
      "2500\n",
      "2600\n",
      "2700\n",
      "2800\n",
      "2900\n",
      "3000\n",
      "3100\n",
      "3200\n",
      "3300\n",
      "3400\n",
      "3500\n",
      "3600\n",
      "3700\n",
      "3800\n",
      "3900\n",
      "4000\n",
      "4100\n",
      "4200\n",
      "4300\n",
      "4400\n",
      "4500\n",
      "4600\n",
      "4700\n",
      "4800\n",
      "4900\n",
      "5000\n",
      "5100\n",
      "5200\n",
      "5300\n"
     ]
    }
   ],
   "source": [
    "tmp = pySemScholar.paper.paperSearch(\"named entity recognition political speech ner\",api_key=api_key,paginate=True,limit=100,fields='All')"
   ]
  },
  {
   "cell_type": "code",
   "execution_count": 12,
   "metadata": {},
   "outputs": [
    {
     "data": {
      "text/plain": [
       "{'paperId': '09d98d41ed7341b93586ba2569c92307ba7e5c63',\n",
       " 'externalIds': {'ArXiv': '2202.08533',\n",
       "  'DBLP': 'journals/corr/abs-2202-08533',\n",
       "  'DOI': '10.1109/ICASSP43922.2022.9746955',\n",
       "  'CorpusId': 246904829},\n",
       " 'url': 'https://www.semanticscholar.org/paper/09d98d41ed7341b93586ba2569c92307ba7e5c63',\n",
       " 'title': 'AISHELL-NER: Named Entity Recognition from Chinese Speech',\n",
       " 'abstract': 'Named Entity Recognition (NER) from speech is among Spoken Language Understanding (SLU) tasks, aiming to extract semantic information from the speech signal. NER from speech is usually made through a two-step pipeline that consists of (1) processing the audio using an Automatic Speech Recognition (ASR) system and (2) applying an NER tagger to the ASR outputs. Recent works have shown the capability of the End-to-End (E2E) approach for NER from English and French speech, which is essentially entity-aware ASR. However, due to the many homophones and polyphones that exist in Chinese, NER from Chinese speech is effectively a more challenging task. In this paper, we introduce a new dataset AISEHLL-NER for NER from Chinese speech. Extensive experiments are conducted to explore the performance of several state-of-the-art methods. The results demonstrate that the performance could be improved by combining entity-aware ASR and pretrained NER tagger, which can be easily applied to the modern SLU pipeline. The dataset is publicly available at github.com/Alibaba-NLP/AISHELL-NER.',\n",
       " 'venue': 'IEEE International Conference on Acoustics, Speech, and Signal Processing',\n",
       " 'year': 2022,\n",
       " 'referenceCount': 22,\n",
       " 'citationCount': 4,\n",
       " 'influentialCitationCount': 1,\n",
       " 'isOpenAccess': True,\n",
       " 'fieldsOfStudy': ['Computer Science'],\n",
       " 's2FieldsOfStudy': [{'category': 'Computer Science', 'source': 'external'},\n",
       "  {'category': 'Computer Science', 'source': 's2-fos-model'}],\n",
       " 'publicationTypes': ['JournalArticle', 'Conference'],\n",
       " 'publicationDate': '2022-02-17',\n",
       " 'journal': {'name': 'ICASSP 2022 - 2022 IEEE International Conference on Acoustics, Speech and Signal Processing (ICASSP)',\n",
       "  'pages': '8352-8356'},\n",
       " 'authors': [{'authorId': '3058753', 'name': 'Boli Chen'},\n",
       "  {'authorId': '2149131512', 'name': 'Guangwei Xu'},\n",
       "  {'authorId': '2108114693', 'name': 'Xiaobin Wang'},\n",
       "  {'authorId': '35930962', 'name': 'Pengjun Xie'},\n",
       "  {'authorId': '2117849151', 'name': 'Meishan Zhang'},\n",
       "  {'authorId': '2117425521', 'name': 'Fei Huang'}]}"
      ]
     },
     "execution_count": 12,
     "metadata": {},
     "output_type": "execute_result"
    }
   ],
   "source": [
    "tmp[0]"
   ]
  }
 ],
 "metadata": {
  "kernelspec": {
   "display_name": "Python 3",
   "language": "python",
   "name": "python3"
  },
  "language_info": {
   "codemirror_mode": {
    "name": "ipython",
    "version": 3
   },
   "file_extension": ".py",
   "mimetype": "text/x-python",
   "name": "python",
   "nbconvert_exporter": "python",
   "pygments_lexer": "ipython3",
   "version": "3.10.6"
  },
  "orig_nbformat": 4
 },
 "nbformat": 4,
 "nbformat_minor": 2
}
